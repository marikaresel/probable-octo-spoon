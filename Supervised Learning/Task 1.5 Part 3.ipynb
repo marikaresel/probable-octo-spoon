{
 "cells": [
  {
   "cell_type": "code",
   "execution_count": 1,
   "id": "5dcde1d2",
   "metadata": {},
   "outputs": [],
   "source": [
    "# Importing libraries\n",
    "import pandas as pd\n",
    "import numpy as np\n",
    "from sklearn.model_selection import train_test_split\n",
    "from sklearn.neural_network import MLPClassifier\n",
    "from sklearn.preprocessing import StandardScaler\n",
    "from sklearn.metrics import accuracy_score, confusion_matrix, ConfusionMatrixDisplay\n",
    "import seaborn as sns\n",
    "import matplotlib.pyplot as plt"
   ]
  },
  {
   "cell_type": "code",
   "execution_count": 2,
   "id": "46a9ad1c",
   "metadata": {},
   "outputs": [],
   "source": [
    "# Load the datasets\n",
    "df_weather = pd.read_csv('/Users/marika/Data Sets/Dataset-weather-prediction-dataset-processed.csv')\n",
    "pleasant_weather = pd.read_csv('/Users/marika/Data Sets/Dataset-Answers-Weather_Prediction_Pleasant_Weather.csv')\n",
    "\n",
    "# Drop the date and month columns from df_weather\n",
    "df_weather = df_weather.drop(columns=['DATE', 'MONTH'])\n",
    "\n",
    "# Drop the date column from pleasant_weather\n",
    "pleasant_weather = pleasant_weather.drop(columns=['DATE'])\n",
    "\n",
    "# Define X and y\n",
    "X = df_weather.values\n",
    "y = pleasant_weather.values\n",
    "\n",
    "# Split the data into training and test sets\n",
    "X_train, X_test, y_train, y_test = train_test_split(X, y, test_size=0.2, random_state=42)"
   ]
  },
  {
   "cell_type": "code",
   "execution_count": 3,
   "id": "bcf13f17",
   "metadata": {},
   "outputs": [
    {
     "name": "stdout",
     "output_type": "stream",
     "text": [
      "Unscaled Data - Training Accuracy: 0.6880718954248366, Test Accuracy: 0.6056644880174292\n",
      "Scaled Data - Training Accuracy: 0.8685185185185185, Test Accuracy: 0.6211328976034859\n",
      "Scaling improves accuracy, so we'll use scaled data for further experiments.\n"
     ]
    }
   ],
   "source": [
    "# Unscaled Data\n",
    "mlp_unscaled = MLPClassifier(random_state=42, max_iter=1000)\n",
    "mlp_unscaled.fit(X_train, y_train)\n",
    "\n",
    "# Accuracy on unscaled data\n",
    "train_acc_unscaled = accuracy_score(y_train, mlp_unscaled.predict(X_train))\n",
    "test_acc_unscaled = accuracy_score(y_test, mlp_unscaled.predict(X_test))\n",
    "print(f\"Unscaled Data - Training Accuracy: {train_acc_unscaled}, Test Accuracy: {test_acc_unscaled}\")\n",
    "\n",
    "# Apply scaling\n",
    "scaler = StandardScaler()\n",
    "X_train_scaled = scaler.fit_transform(X_train)\n",
    "X_test_scaled = scaler.transform(X_test)\n",
    "\n",
    "# Scaled Data\n",
    "mlp_scaled = MLPClassifier(random_state=42, max_iter=1000)\n",
    "mlp_scaled.fit(X_train_scaled, y_train)\n",
    "\n",
    "# Accuracy on scaled data\n",
    "train_acc_scaled = accuracy_score(y_train, mlp_scaled.predict(X_train_scaled))\n",
    "test_acc_scaled = accuracy_score(y_test, mlp_scaled.predict(X_test_scaled))\n",
    "print(f\"Scaled Data - Training Accuracy: {train_acc_scaled}, Test Accuracy: {test_acc_scaled}\")\n",
    "\n",
    "# Decision on scaling\n",
    "if test_acc_scaled > test_acc_unscaled:\n",
    "    print(\"Scaling improves accuracy, so we'll use scaled data for further experiments.\")\n",
    "else:\n",
    "    print(\"Scaling does not improve accuracy, so we might continue with unscaled data.\")"
   ]
  },
  {
   "cell_type": "code",
   "execution_count": 4,
   "id": "b86bf391",
   "metadata": {
    "scrolled": false
   },
   "outputs": [
    {
     "name": "stderr",
     "output_type": "stream",
     "text": [
      "/opt/anaconda3/lib/python3.11/site-packages/sklearn/neural_network/_multilayer_perceptron.py:686: ConvergenceWarning: Stochastic Optimizer: Maximum iterations (200) reached and the optimization hasn't converged yet.\n",
      "  warnings.warn(\n"
     ]
    },
    {
     "name": "stdout",
     "output_type": "stream",
     "text": [
      "Layers: (50,), Max Iter: 200, Tol: 0.0001 - Training Accuracy: 0.6886710239651416, Test Accuracy: 0.6122004357298475\n"
     ]
    },
    {
     "name": "stderr",
     "output_type": "stream",
     "text": [
      "/opt/anaconda3/lib/python3.11/site-packages/sklearn/neural_network/_multilayer_perceptron.py:686: ConvergenceWarning: Stochastic Optimizer: Maximum iterations (200) reached and the optimization hasn't converged yet.\n",
      "  warnings.warn(\n"
     ]
    },
    {
     "name": "stdout",
     "output_type": "stream",
     "text": [
      "Layers: (50,), Max Iter: 200, Tol: 0.001 - Training Accuracy: 0.6886710239651416, Test Accuracy: 0.6122004357298475\n",
      "Layers: (50,), Max Iter: 200, Tol: 0.01 - Training Accuracy: 0.6202614379084967, Test Accuracy: 0.5751633986928104\n"
     ]
    },
    {
     "name": "stderr",
     "output_type": "stream",
     "text": [
      "/opt/anaconda3/lib/python3.11/site-packages/sklearn/neural_network/_multilayer_perceptron.py:686: ConvergenceWarning: Stochastic Optimizer: Maximum iterations (500) reached and the optimization hasn't converged yet.\n",
      "  warnings.warn(\n"
     ]
    },
    {
     "name": "stdout",
     "output_type": "stream",
     "text": [
      "Layers: (50,), Max Iter: 500, Tol: 0.0001 - Training Accuracy: 0.7671568627450981, Test Accuracy: 0.64880174291939\n"
     ]
    },
    {
     "name": "stderr",
     "output_type": "stream",
     "text": [
      "/opt/anaconda3/lib/python3.11/site-packages/sklearn/neural_network/_multilayer_perceptron.py:686: ConvergenceWarning: Stochastic Optimizer: Maximum iterations (500) reached and the optimization hasn't converged yet.\n",
      "  warnings.warn(\n"
     ]
    },
    {
     "name": "stdout",
     "output_type": "stream",
     "text": [
      "Layers: (50,), Max Iter: 500, Tol: 0.001 - Training Accuracy: 0.7671568627450981, Test Accuracy: 0.64880174291939\n",
      "Layers: (50,), Max Iter: 500, Tol: 0.01 - Training Accuracy: 0.6202614379084967, Test Accuracy: 0.5751633986928104\n",
      "Layers: (50,), Max Iter: 1000, Tol: 0.0001 - Training Accuracy: 0.8133986928104575, Test Accuracy: 0.6758169934640523\n",
      "Layers: (50,), Max Iter: 1000, Tol: 0.001 - Training Accuracy: 0.7986383442265795, Test Accuracy: 0.6679738562091503\n",
      "Layers: (50,), Max Iter: 1000, Tol: 0.01 - Training Accuracy: 0.6202614379084967, Test Accuracy: 0.5751633986928104\n"
     ]
    },
    {
     "name": "stderr",
     "output_type": "stream",
     "text": [
      "/opt/anaconda3/lib/python3.11/site-packages/sklearn/neural_network/_multilayer_perceptron.py:686: ConvergenceWarning: Stochastic Optimizer: Maximum iterations (200) reached and the optimization hasn't converged yet.\n",
      "  warnings.warn(\n"
     ]
    },
    {
     "name": "stdout",
     "output_type": "stream",
     "text": [
      "Layers: (100,), Max Iter: 200, Tol: 0.0001 - Training Accuracy: 0.7766339869281046, Test Accuracy: 0.6037037037037037\n"
     ]
    },
    {
     "name": "stderr",
     "output_type": "stream",
     "text": [
      "/opt/anaconda3/lib/python3.11/site-packages/sklearn/neural_network/_multilayer_perceptron.py:686: ConvergenceWarning: Stochastic Optimizer: Maximum iterations (200) reached and the optimization hasn't converged yet.\n",
      "  warnings.warn(\n"
     ]
    },
    {
     "name": "stdout",
     "output_type": "stream",
     "text": [
      "Layers: (100,), Max Iter: 200, Tol: 0.001 - Training Accuracy: 0.7766339869281046, Test Accuracy: 0.6037037037037037\n",
      "Layers: (100,), Max Iter: 200, Tol: 0.01 - Training Accuracy: 0.7058823529411765, Test Accuracy: 0.5880174291938998\n"
     ]
    },
    {
     "name": "stderr",
     "output_type": "stream",
     "text": [
      "/opt/anaconda3/lib/python3.11/site-packages/sklearn/neural_network/_multilayer_perceptron.py:686: ConvergenceWarning: Stochastic Optimizer: Maximum iterations (500) reached and the optimization hasn't converged yet.\n",
      "  warnings.warn(\n"
     ]
    },
    {
     "name": "stdout",
     "output_type": "stream",
     "text": [
      "Layers: (100,), Max Iter: 500, Tol: 0.0001 - Training Accuracy: 0.8662854030501089, Test Accuracy: 0.6148148148148148\n",
      "Layers: (100,), Max Iter: 500, Tol: 0.001 - Training Accuracy: 0.836764705882353, Test Accuracy: 0.6080610021786492\n",
      "Layers: (100,), Max Iter: 500, Tol: 0.01 - Training Accuracy: 0.7058823529411765, Test Accuracy: 0.5880174291938998\n",
      "Layers: (100,), Max Iter: 1000, Tol: 0.0001 - Training Accuracy: 0.8685185185185185, Test Accuracy: 0.6211328976034859\n",
      "Layers: (100,), Max Iter: 1000, Tol: 0.001 - Training Accuracy: 0.836764705882353, Test Accuracy: 0.6080610021786492\n",
      "Layers: (100,), Max Iter: 1000, Tol: 0.01 - Training Accuracy: 0.7058823529411765, Test Accuracy: 0.5880174291938998\n"
     ]
    },
    {
     "name": "stderr",
     "output_type": "stream",
     "text": [
      "/opt/anaconda3/lib/python3.11/site-packages/sklearn/neural_network/_multilayer_perceptron.py:686: ConvergenceWarning: Stochastic Optimizer: Maximum iterations (200) reached and the optimization hasn't converged yet.\n",
      "  warnings.warn(\n"
     ]
    },
    {
     "name": "stdout",
     "output_type": "stream",
     "text": [
      "Layers: (50, 50), Max Iter: 200, Tol: 0.0001 - Training Accuracy: 0.7306644880174292, Test Accuracy: 0.6132897603485838\n"
     ]
    },
    {
     "name": "stderr",
     "output_type": "stream",
     "text": [
      "/opt/anaconda3/lib/python3.11/site-packages/sklearn/neural_network/_multilayer_perceptron.py:686: ConvergenceWarning: Stochastic Optimizer: Maximum iterations (200) reached and the optimization hasn't converged yet.\n",
      "  warnings.warn(\n"
     ]
    },
    {
     "name": "stdout",
     "output_type": "stream",
     "text": [
      "Layers: (50, 50), Max Iter: 200, Tol: 0.001 - Training Accuracy: 0.7306644880174292, Test Accuracy: 0.6132897603485838\n",
      "Layers: (50, 50), Max Iter: 200, Tol: 0.01 - Training Accuracy: 0.677995642701525, Test Accuracy: 0.5956427015250545\n",
      "Layers: (50, 50), Max Iter: 500, Tol: 0.0001 - Training Accuracy: 0.7787581699346405, Test Accuracy: 0.6257080610021787\n",
      "Layers: (50, 50), Max Iter: 500, Tol: 0.001 - Training Accuracy: 0.7871459694989107, Test Accuracy: 0.6352941176470588\n",
      "Layers: (50, 50), Max Iter: 500, Tol: 0.01 - Training Accuracy: 0.677995642701525, Test Accuracy: 0.5956427015250545\n",
      "Layers: (50, 50), Max Iter: 1000, Tol: 0.0001 - Training Accuracy: 0.7787581699346405, Test Accuracy: 0.6257080610021787\n",
      "Layers: (50, 50), Max Iter: 1000, Tol: 0.001 - Training Accuracy: 0.7871459694989107, Test Accuracy: 0.6352941176470588\n",
      "Layers: (50, 50), Max Iter: 1000, Tol: 0.01 - Training Accuracy: 0.677995642701525, Test Accuracy: 0.5956427015250545\n"
     ]
    },
    {
     "name": "stderr",
     "output_type": "stream",
     "text": [
      "/opt/anaconda3/lib/python3.11/site-packages/sklearn/neural_network/_multilayer_perceptron.py:686: ConvergenceWarning: Stochastic Optimizer: Maximum iterations (200) reached and the optimization hasn't converged yet.\n",
      "  warnings.warn(\n"
     ]
    },
    {
     "name": "stdout",
     "output_type": "stream",
     "text": [
      "Layers: (100, 100), Max Iter: 200, Tol: 0.0001 - Training Accuracy: 0.8620915032679739, Test Accuracy: 0.5843137254901961\n"
     ]
    },
    {
     "name": "stderr",
     "output_type": "stream",
     "text": [
      "/opt/anaconda3/lib/python3.11/site-packages/sklearn/neural_network/_multilayer_perceptron.py:686: ConvergenceWarning: Stochastic Optimizer: Maximum iterations (200) reached and the optimization hasn't converged yet.\n",
      "  warnings.warn(\n"
     ]
    },
    {
     "name": "stdout",
     "output_type": "stream",
     "text": [
      "Layers: (100, 100), Max Iter: 200, Tol: 0.001 - Training Accuracy: 0.8620915032679739, Test Accuracy: 0.5843137254901961\n",
      "Layers: (100, 100), Max Iter: 200, Tol: 0.01 - Training Accuracy: 0.8212418300653594, Test Accuracy: 0.5745098039215686\n",
      "Layers: (100, 100), Max Iter: 500, Tol: 0.0001 - Training Accuracy: 0.8960239651416122, Test Accuracy: 0.5827886710239651\n",
      "Layers: (100, 100), Max Iter: 500, Tol: 0.001 - Training Accuracy: 0.8960239651416122, Test Accuracy: 0.5827886710239651\n",
      "Layers: (100, 100), Max Iter: 500, Tol: 0.01 - Training Accuracy: 0.8212418300653594, Test Accuracy: 0.5745098039215686\n",
      "Layers: (100, 100), Max Iter: 1000, Tol: 0.0001 - Training Accuracy: 0.8960239651416122, Test Accuracy: 0.5827886710239651\n",
      "Layers: (100, 100), Max Iter: 1000, Tol: 0.001 - Training Accuracy: 0.8960239651416122, Test Accuracy: 0.5827886710239651\n",
      "Layers: (100, 100), Max Iter: 1000, Tol: 0.01 - Training Accuracy: 0.8212418300653594, Test Accuracy: 0.5745098039215686\n",
      "Best Configuration: {'layers': (50,), 'max_iter': 1000, 'tol': 0.0001} with Test Accuracy: 0.6758169934640523\n"
     ]
    }
   ],
   "source": [
    "# Experiment with different configurations\n",
    "best_acc = 0\n",
    "best_config = {}\n",
    "\n",
    "layer_configs = [(50,), (100,), (50, 50), (100, 100)]\n",
    "iterations = [200, 500, 1000]\n",
    "tolerances = [1e-4, 1e-3, 1e-2]\n",
    "\n",
    "for layers in layer_configs:\n",
    "    for max_iter in iterations:\n",
    "        for tol in tolerances:\n",
    "            mlp = MLPClassifier(hidden_layer_sizes=layers, max_iter=max_iter, tol=tol, random_state=42)\n",
    "            mlp.fit(X_train_scaled, y_train)  \n",
    "            \n",
    "            train_acc = accuracy_score(y_train, mlp.predict(X_train_scaled))\n",
    "            test_acc = accuracy_score(y_test, mlp.predict(X_test_scaled))\n",
    "            \n",
    "            print(f\"Layers: {layers}, Max Iter: {max_iter}, Tol: {tol} - Training Accuracy: {train_acc}, Test Accuracy: {test_acc}\")\n",
    "            \n",
    "            if test_acc > best_acc:\n",
    "                best_acc = test_acc\n",
    "                best_config = {'layers': layers, 'max_iter': max_iter, 'tol': tol}\n",
    "\n",
    "print(f\"Best Configuration: {best_config} with Test Accuracy: {best_acc}\")"
   ]
  },
  {
   "cell_type": "code",
   "execution_count": 5,
   "id": "7eedeb71",
   "metadata": {},
   "outputs": [
    {
     "data": {
      "image/png": "[encoded data removed]",
      "text/plain": [
       "<Figure size 2000x500 with 6 Axes>"
      ]
     },
     "metadata": {},
     "output_type": "display_data"
    },
    {
     "data": {
      "text/plain": [
       "<Figure size 640x480 with 0 Axes>"
      ]
     },
     "metadata": {},
     "output_type": "display_data"
    }
   ],
   "source": [
    "# Best model based on previous experiments\n",
    "mlp_best = MLPClassifier(hidden_layer_sizes=best_config['layers'], max_iter=best_config['max_iter'], tol=best_config['tol'], random_state=42)\n",
    "mlp_best.fit(X_train_scaled, y_train)  \n",
    "\n",
    "y_pred_best = mlp_best.predict(X_test_scaled)\n",
    "\n",
    "# Extract location names from df_weather columns\n",
    "locations = list(df_weather.columns)\n",
    "\n",
    "# Plot confusion matrices for at least three stations\n",
    "figure, ax = plt.subplots(1, 3, figsize=(20, 5))  \n",
    "for i in range(3):\n",
    "    name = locations[i]\n",
    "    cm = confusion_matrix(y_test[:, i], y_pred_best[:, i])\n",
    "    \n",
    "    sns.heatmap(cm, annot=True, fmt='g', ax=ax[i], cmap=\"Blues\")\n",
    "    \n",
    "    ax[i].set_xlabel('Predicted labels')\n",
    "    ax[i].set_ylabel('True labels')\n",
    "    ax[i].set_title(name + ' Confusion Matrix')\n",
    "\n",
    "plt.tight_layout()\n",
    "plt.show()\n",
    "\n",
    "# Save the figure\n",
    "plt.savefig(\"ann_confusion_matrices.png\")"
   ]
  },
  {
   "cell_type": "markdown",
   "id": "10930fc9",
   "metadata": {},
   "source": [
    "# Analysis of Results\n",
    "\n",
    "# Best Model: \n",
    "The best-performing model had a single hidden layer with 50 nodes, a maximum of 1000 iterations, and a tolerance of 0.0001. This configuration achieved the highest test accuracy, indicating that it was able to generalize better than more complex models.\n",
    "\n",
    "# Model Complexity: \n",
    "Adding more layers or nodes increased training accuracy but also led to overfitting, where the test accuracy was lower. This suggests that a simpler model might be more effective for this dataset.\n",
    "\n",
    "# Further Optimization: \n",
    "Given the convergence warnings, there is potential to improve the model further by increasing the maximum iterations or adjusting other hyperparameters, such as learning rate or activation function."
   ]
  },
  {
   "cell_type": "markdown",
   "id": "5f8355a1",
   "metadata": {},
   "source": [
    "# Next Steps \n",
    "\n",
    "# Cross-Validation: \n",
    "To ensure robustness, perform cross-validation with the best configuration to verify that the model generalizes well across different data splits.\n",
    "\n",
    "# Confusion Matrix Analysis: \n",
    "Generate confusion matrices for the best model and analyze the results across different weather stations to identify any specific areas where the model is performing well or poorly."
   ]
  },
  {
   "cell_type": "code",
   "execution_count": null,
   "id": "ed7f0ad2",
   "metadata": {},
   "outputs": [],
   "source": []
  }
 ],
 "metadata": {
  "kernelspec": {
   "display_name": "Python 3 (ipykernel)",
   "language": "python",
   "name": "python3"
  },
  "language_info": {
   "codemirror_mode": {
    "name": "ipython",
    "version": 3
   },
   "file_extension": ".py",
   "mimetype": "text/x-python",
   "name": "python",
   "nbconvert_exporter": "python",
   "pygments_lexer": "ipython3",
   "version": "3.11.7"
  }
 },
 "nbformat": 4,
 "nbformat_minor": 5
}
