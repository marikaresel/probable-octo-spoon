{
 "cells": [
  {
   "cell_type": "markdown",
   "id": "4da63435",
   "metadata": {},
   "source": [
    "# Part 1: Handwriting Recognition "
   ]
  },
  {
   "cell_type": "code",
   "execution_count": 2,
   "id": "97ae9fa9",
   "metadata": {},
   "outputs": [],
   "source": [
    "# Importing libraries\n",
    "import pandas as pd\n",
    "import numpy as np\n",
    "from sklearn.model_selection import train_test_split\n",
    "from sklearn.neural_network import MLPClassifier\n",
    "from sklearn.preprocessing import StandardScaler\n",
    "from sklearn.metrics import accuracy_score, confusion_matrix, ConfusionMatrixDisplay\n",
    "import seaborn as sns\n",
    "import matplotlib.pyplot as plt\n",
    "from scipy.cluster.hierarchy import dendrogram, linkage, fcluster\n",
    "import tensorflow as tf\n",
    "from tensorflow.keras.models import Sequential\n",
    "from tensorflow.keras.layers import Conv1D, Dense, MaxPooling1D, Dropout, LSTM, Flatten\n",
    "from keras.layers import Conv1D, Conv2D, Dense, Dropout, BatchNormalization, Flatten, MaxPooling1D\n",
    "from tensorflow.keras.utils import to_categorical\n",
    "import numpy as np\n",
    "import pandas as pd\n",
    "from sklearn.model_selection import train_test_split, GridSearchCV, RandomizedSearchCV\n",
    "from sklearn.ensemble import RandomForestClassifier\n",
    "from sklearn.metrics import accuracy_score\n",
    "import matplotlib.pyplot as plt\n",
    "from sklearn.tree import plot_tree"
   ]
  },
  {
   "cell_type": "code",
   "execution_count": 4,
   "id": "3dc4c22d",
   "metadata": {},
   "outputs": [
    {
     "name": "stdout",
     "output_type": "stream",
     "text": [
      "Downloading data from https://storage.googleapis.com/tensorflow/tf-keras-datasets/mnist.npz\n",
      "\u001b[1m11490434/11490434\u001b[0m \u001b[32m━━━━━━━━━━━━━━━━━━━━\u001b[0m\u001b[37m\u001b[0m \u001b[1m0s\u001b[0m 0us/step\n"
     ]
    },
    {
     "data": {
      "image/png": "[encoded data removed]",
      "text/plain": [
       "<Figure size 640x480 with 1 Axes>"
      ]
     },
     "metadata": {},
     "output_type": "display_data"
    },
    {
     "name": "stdout",
     "output_type": "stream",
     "text": [
      "Epoch 1/5\n"
     ]
    },
    {
     "name": "stderr",
     "output_type": "stream",
     "text": [
      "/opt/anaconda3/lib/python3.11/site-packages/keras/src/layers/reshaping/flatten.py:37: UserWarning: Do not pass an `input_shape`/`input_dim` argument to a layer. When using Sequential models, prefer using an `Input(shape)` object as the first layer in the model instead.\n",
      "  super().__init__(**kwargs)\n"
     ]
    },
    {
     "name": "stdout",
     "output_type": "stream",
     "text": [
      "\u001b[1m1875/1875\u001b[0m \u001b[32m━━━━━━━━━━━━━━━━━━━━\u001b[0m\u001b[37m\u001b[0m \u001b[1m2s\u001b[0m 713us/step - accuracy: 0.8582 - loss: 0.4852\n",
      "Epoch 2/5\n",
      "\u001b[1m1875/1875\u001b[0m \u001b[32m━━━━━━━━━━━━━━━━━━━━\u001b[0m\u001b[37m\u001b[0m \u001b[1m1s\u001b[0m 703us/step - accuracy: 0.9555 - loss: 0.1483\n",
      "Epoch 3/5\n",
      "\u001b[1m1875/1875\u001b[0m \u001b[32m━━━━━━━━━━━━━━━━━━━━\u001b[0m\u001b[37m\u001b[0m \u001b[1m1s\u001b[0m 718us/step - accuracy: 0.9664 - loss: 0.1082\n",
      "Epoch 4/5\n",
      "\u001b[1m1875/1875\u001b[0m \u001b[32m━━━━━━━━━━━━━━━━━━━━\u001b[0m\u001b[37m\u001b[0m \u001b[1m1s\u001b[0m 735us/step - accuracy: 0.9725 - loss: 0.0858\n",
      "Epoch 5/5\n",
      "\u001b[1m1875/1875\u001b[0m \u001b[32m━━━━━━━━━━━━━━━━━━━━\u001b[0m\u001b[37m\u001b[0m \u001b[1m2s\u001b[0m 805us/step - accuracy: 0.9776 - loss: 0.0715\n",
      "\u001b[1m313/313\u001b[0m \u001b[32m━━━━━━━━━━━━━━━━━━━━\u001b[0m\u001b[37m\u001b[0m \u001b[1m0s\u001b[0m 299us/step - accuracy: 0.9739 - loss: 0.0884\n",
      "Test accuracy: 0.9776999950408936\n"
     ]
    }
   ],
   "source": [
    "import tensorflow as tf\n",
    "from tensorflow.keras.datasets import mnist\n",
    "import matplotlib.pyplot as plt\n",
    "\n",
    "# Load the MNIST dataset\n",
    "(X_train, y_train), (X_test, y_test) = mnist.load_data()\n",
    "\n",
    "# Normalize the images to the range [0, 1]\n",
    "X_train = X_train.astype('float32') / 255\n",
    "X_test = X_test.astype('float32') / 255\n",
    "\n",
    "# Display the first image in the training set\n",
    "plt.imshow(X_train[0], cmap='gray')\n",
    "plt.title(f'Label: {y_train[0]}')\n",
    "plt.show()\n",
    "\n",
    "# Build a simple neural network model\n",
    "model = tf.keras.models.Sequential([\n",
    "    tf.keras.layers.Flatten(input_shape=(28, 28)),\n",
    "    tf.keras.layers.Dense(128, activation='relu'),\n",
    "    tf.keras.layers.Dropout(0.2),\n",
    "    tf.keras.layers.Dense(10, activation='softmax')\n",
    "])\n",
    "\n",
    "# Compile the model\n",
    "model.compile(optimizer='adam',\n",
    "              loss='sparse_categorical_crossentropy',\n",
    "              metrics=['accuracy'])\n",
    "\n",
    "# Train the model\n",
    "model.fit(X_train, y_train, epochs=5)\n",
    "\n",
    "# Evaluate the model on test data\n",
    "test_loss, test_acc = model.evaluate(X_test, y_test)\n",
    "print(f'Test accuracy: {test_acc}')"
   ]
  },
  {
   "cell_type": "code",
   "execution_count": 8,
   "id": "ee3d3c51",
   "metadata": {},
   "outputs": [
    {
     "name": "stdout",
     "output_type": "stream",
     "text": [
      "Shape before reshaping: (28, 28)\n",
      "Shape after reshaping: (1, 28, 28, 1)\n",
      "\u001b[1m1/1\u001b[0m \u001b[32m━━━━━━━━━━━━━━━━━━━━\u001b[0m\u001b[37m\u001b[0m \u001b[1m0s\u001b[0m 30ms/step\n",
      "Predicted digit: 3\n"
     ]
    }
   ],
   "source": [
    "from PIL import Image\n",
    "import numpy as np\n",
    "\n",
    "# Load the image\n",
    "img_path = '/Users/Marika/Data Sets/imgonline-com-ua-Negative-6w9BXC0j97n.jpg'   \n",
    "img = Image.open(img_path).convert('L')  # Convert the image to grayscale\n",
    "\n",
    "# Resize the image to 28x28 pixels\n",
    "newsize = (28, 28)\n",
    "img_resized = img.resize(newsize)\n",
    "\n",
    "# Convert the image to a NumPy array\n",
    "testimg = np.asarray(img_resized)\n",
    "\n",
    "# Print the shape of the array\n",
    "print(f\"Shape before reshaping: {testimg.shape}\")\n",
    "\n",
    "# Reshape the array to (1, 28, 28, 1) - required for model input\n",
    "testimg = testimg.reshape(1, 28, 28, 1)\n",
    "\n",
    "print(f\"Shape after reshaping: {testimg.shape}\")\n",
    "\n",
    "# Normalize the pixel values to the range [0, 1]\n",
    "testimg = testimg.astype('float32') / 255.0\n",
    "\n",
    "# Predict the class\n",
    "predict_value = model.predict(testimg)\n",
    "digit = np.argmax(predict_value)\n",
    "print(f\"Predicted digit: {digit}\")"
   ]
  },
  {
   "cell_type": "code",
   "execution_count": 15,
   "id": "83e581de",
   "metadata": {},
   "outputs": [
    {
     "name": "stdout",
     "output_type": "stream",
     "text": [
      "Epoch 1/5\n"
     ]
    },
    {
     "name": "stderr",
     "output_type": "stream",
     "text": [
      "/opt/anaconda3/lib/python3.11/site-packages/keras/src/layers/reshaping/flatten.py:37: UserWarning: Do not pass an `input_shape`/`input_dim` argument to a layer. When using Sequential models, prefer using an `Input(shape)` object as the first layer in the model instead.\n",
      "  super().__init__(**kwargs)\n"
     ]
    },
    {
     "name": "stdout",
     "output_type": "stream",
     "text": [
      "\u001b[1m1875/1875\u001b[0m \u001b[32m━━━━━━━━━━━━━━━━━━━━\u001b[0m\u001b[37m\u001b[0m \u001b[1m2s\u001b[0m 960us/step - accuracy: 0.8740 - loss: 0.4321 - val_accuracy: 0.9644 - val_loss: 0.1175\n",
      "Epoch 2/5\n",
      "\u001b[1m1875/1875\u001b[0m \u001b[32m━━━━━━━━━━━━━━━━━━━━\u001b[0m\u001b[37m\u001b[0m \u001b[1m2s\u001b[0m 1ms/step - accuracy: 0.9685 - loss: 0.1043 - val_accuracy: 0.9728 - val_loss: 0.0893\n",
      "Epoch 3/5\n",
      "\u001b[1m1875/1875\u001b[0m \u001b[32m━━━━━━━━━━━━━━━━━━━━\u001b[0m\u001b[37m\u001b[0m \u001b[1m2s\u001b[0m 901us/step - accuracy: 0.9772 - loss: 0.0731 - val_accuracy: 0.9735 - val_loss: 0.0848\n",
      "Epoch 4/5\n",
      "\u001b[1m1875/1875\u001b[0m \u001b[32m━━━━━━━━━━━━━━━━━━━━\u001b[0m\u001b[37m\u001b[0m \u001b[1m2s\u001b[0m 1ms/step - accuracy: 0.9830 - loss: 0.0541 - val_accuracy: 0.9757 - val_loss: 0.0758\n",
      "Epoch 5/5\n",
      "\u001b[1m1875/1875\u001b[0m \u001b[32m━━━━━━━━━━━━━━━━━━━━\u001b[0m\u001b[37m\u001b[0m \u001b[1m2s\u001b[0m 1ms/step - accuracy: 0.9873 - loss: 0.0403 - val_accuracy: 0.9780 - val_loss: 0.0805\n"
     ]
    },
    {
     "data": {
      "text/plain": [
       "<keras.src.callbacks.history.History at 0x1779ca1d0>"
      ]
     },
     "execution_count": 15,
     "metadata": {},
     "output_type": "execute_result"
    }
   ],
   "source": [
    "import numpy as np\n",
    "import matplotlib.pyplot as plt\n",
    "from tensorflow.keras.datasets import mnist\n",
    "from tensorflow.keras.models import Sequential\n",
    "from tensorflow.keras.layers import Dense, Flatten\n",
    "from tensorflow.keras.utils import to_categorical\n",
    "from PIL import Image\n",
    "\n",
    "# Load the MNIST dataset\n",
    "(X_train, y_train), (X_test, y_test) = mnist.load_data()\n",
    "\n",
    "# Normalize the dataset to have values between 0 and 1\n",
    "X_train = X_train.astype('float32') / 255.0\n",
    "X_test = X_test.astype('float32') / 255.0\n",
    "\n",
    "# Convert class vectors to binary class matrices (one-hot encoding)\n",
    "y_train = to_categorical(y_train, 10)\n",
    "y_test = to_categorical(y_test, 10)\n",
    "\n",
    "# Build a simple neural network model\n",
    "model = Sequential([\n",
    "    Flatten(input_shape=(28, 28)),\n",
    "    Dense(128, activation='relu'),\n",
    "    Dense(64, activation='relu'),\n",
    "    Dense(10, activation='softmax')\n",
    "])\n",
    "\n",
    "# Compile the model\n",
    "model.compile(optimizer='adam', loss='categorical_crossentropy', metrics=['accuracy'])\n",
    "\n",
    "# Train the model\n",
    "model.fit(X_train, y_train, epochs=5, batch_size=32, validation_data=(X_test, y_test))"
   ]
  },
  {
   "cell_type": "code",
   "execution_count": 16,
   "id": "c824ff3b",
   "metadata": {},
   "outputs": [
    {
     "name": "stdout",
     "output_type": "stream",
     "text": [
      "\u001b[1m1/1\u001b[0m \u001b[32m━━━━━━━━━━━━━━━━━━━━\u001b[0m\u001b[37m\u001b[0m \u001b[1m0s\u001b[0m 20ms/step\n"
     ]
    },
    {
     "data": {
      "image/png": "[encoded data removed]",
      "text/plain": [
       "<Figure size 640x480 with 1 Axes>"
      ]
     },
     "metadata": {},
     "output_type": "display_data"
    }
   ],
   "source": [
    "# Load the image you want to predict\n",
    "img_path = '/Users/Marika/Data Sets/imgonline-com-ua-Negative-6w9BXC0j97n.jpg'\n",
    "img = Image.open(img_path).convert('L')  # Convert to grayscale\n",
    "\n",
    "# Resize the image to 28x28 pixels (MNIST size)\n",
    "img = img.resize((28, 28))\n",
    "\n",
    "# Convert the image to a NumPy array\n",
    "img_array = np.array(img)\n",
    "\n",
    "# Normalize the image data to match the training set\n",
    "img_array = img_array.astype('float32') / 255.0\n",
    "\n",
    "# Reshape the image to match the model's expected input shape\n",
    "img_array = img_array.reshape(1, 28, 28)  # Model expects (None, 28, 28)\n",
    "\n",
    "# Predict the digit\n",
    "predict_value = model.predict(img_array)\n",
    "predicted_digit = np.argmax(predict_value)\n",
    "\n",
    "# Display the image and prediction\n",
    "plt.imshow(img_array.reshape(28, 28), cmap='gray')\n",
    "plt.title(f\"Predicted digit: {predicted_digit}\")\n",
    "plt.axis('off')  # Hide axes\n",
    "plt.show()"
   ]
  },
  {
   "cell_type": "code",
   "execution_count": 17,
   "id": "0d3a857f",
   "metadata": {},
   "outputs": [
    {
     "name": "stdout",
     "output_type": "stream",
     "text": [
      "\u001b[1m1/1\u001b[0m \u001b[32m━━━━━━━━━━━━━━━━━━━━\u001b[0m\u001b[37m\u001b[0m \u001b[1m0s\u001b[0m 10ms/step\n"
     ]
    },
    {
     "data": {
      "image/png": "[encoded data removed]",
      "text/plain": [
       "<Figure size 640x480 with 1 Axes>"
      ]
     },
     "metadata": {},
     "output_type": "display_data"
    }
   ],
   "source": [
    "# Load the image you want to predict\n",
    "img_path = '/Users/Marika/Data Sets/imgonline-com-ua-Negative-BcR02cPL5SUug (1).jpg'\n",
    "img = Image.open(img_path).convert('L')  # Convert to grayscale\n",
    "\n",
    "# Resize the image to 28x28 pixels (MNIST size)\n",
    "img = img.resize((28, 28))\n",
    "\n",
    "# Convert the image to a NumPy array\n",
    "img_array = np.array(img)\n",
    "\n",
    "# Normalize the image data to match the training set\n",
    "img_array = img_array.astype('float32') / 255.0\n",
    "\n",
    "# Reshape the image to match the model's expected input shape\n",
    "img_array = img_array.reshape(1, 28, 28)  # Model expects (None, 28, 28)\n",
    "\n",
    "# Predict the digit\n",
    "predict_value = model.predict(img_array)\n",
    "predicted_digit = np.argmax(predict_value)\n",
    "\n",
    "# Display the image and prediction\n",
    "plt.imshow(img_array.reshape(28, 28), cmap='gray')\n",
    "plt.title(f\"Predicted digit: {predicted_digit}\")\n",
    "plt.axis('off')  # Hide axes\n",
    "plt.show()"
   ]
  },
  {
   "cell_type": "code",
   "execution_count": 18,
   "id": "1813a088",
   "metadata": {},
   "outputs": [
    {
     "name": "stdout",
     "output_type": "stream",
     "text": [
      "\u001b[1m1/1\u001b[0m \u001b[32m━━━━━━━━━━━━━━━━━━━━\u001b[0m\u001b[37m\u001b[0m \u001b[1m0s\u001b[0m 11ms/step\n"
     ]
    },
    {
     "data": {
      "image/png": "[encoded data removed]",
      "text/plain": [
       "<Figure size 640x480 with 1 Axes>"
      ]
     },
     "metadata": {},
     "output_type": "display_data"
    }
   ],
   "source": [
    "# Load the image you want to predict\n",
    "img_path = '/Users/Marika/Data Sets/imgonline-com-ua-Negative-D07uJdOslOqGUoV.jpg'\n",
    "img = Image.open(img_path).convert('L')  # Convert to grayscale\n",
    "\n",
    "# Resize the image to 28x28 pixels (MNIST size)\n",
    "img = img.resize((28, 28))\n",
    "\n",
    "# Convert the image to a NumPy array\n",
    "img_array = np.array(img)\n",
    "\n",
    "# Normalize the image data to match the training set\n",
    "img_array = img_array.astype('float32') / 255.0\n",
    "\n",
    "# Reshape the image to match the model's expected input shape\n",
    "img_array = img_array.reshape(1, 28, 28)  # Model expects (None, 28, 28)\n",
    "\n",
    "# Predict the digit\n",
    "predict_value = model.predict(img_array)\n",
    "predicted_digit = np.argmax(predict_value)\n",
    "\n",
    "# Display the image and prediction\n",
    "plt.imshow(img_array.reshape(28, 28), cmap='gray')\n",
    "plt.title(f\"Predicted digit: {predicted_digit}\")\n",
    "plt.axis('off')  # Hide axes\n",
    "plt.show()"
   ]
  },
  {
   "cell_type": "code",
   "execution_count": 19,
   "id": "e3a988b9",
   "metadata": {},
   "outputs": [
    {
     "name": "stdout",
     "output_type": "stream",
     "text": [
      "\u001b[1m1/1\u001b[0m \u001b[32m━━━━━━━━━━━━━━━━━━━━\u001b[0m\u001b[37m\u001b[0m \u001b[1m0s\u001b[0m 11ms/step\n"
     ]
    },
    {
     "data": {
      "image/png": "[encoded data removed]",
      "text/plain": [
       "<Figure size 640x480 with 1 Axes>"
      ]
     },
     "metadata": {},
     "output_type": "display_data"
    }
   ],
   "source": [
    "# Load the image you want to predict\n",
    "img_path = '/Users/Marika/Data Sets/imgonline-com-ua-Negative-E6SvGUAcWJ4C.jpg'\n",
    "img = Image.open(img_path).convert('L')  # Convert to grayscale\n",
    "\n",
    "# Resize the image to 28x28 pixels (MNIST size)\n",
    "img = img.resize((28, 28))\n",
    "\n",
    "# Convert the image to a NumPy array\n",
    "img_array = np.array(img)\n",
    "\n",
    "# Normalize the image data to match the training set\n",
    "img_array = img_array.astype('float32') / 255.0\n",
    "\n",
    "# Reshape the image to match the model's expected input shape\n",
    "img_array = img_array.reshape(1, 28, 28)  # Model expects (None, 28, 28)\n",
    "\n",
    "# Predict the digit\n",
    "predict_value = model.predict(img_array)\n",
    "predicted_digit = np.argmax(predict_value)\n",
    "\n",
    "# Display the image and prediction\n",
    "plt.imshow(img_array.reshape(28, 28), cmap='gray')\n",
    "plt.title(f\"Predicted digit: {predicted_digit}\")\n",
    "plt.axis('off')  # Hide axes\n",
    "plt.show()"
   ]
  },
  {
   "cell_type": "code",
   "execution_count": 20,
   "id": "909b9f35",
   "metadata": {},
   "outputs": [
    {
     "name": "stdout",
     "output_type": "stream",
     "text": [
      "\u001b[1m1/1\u001b[0m \u001b[32m━━━━━━━━━━━━━━━━━━━━\u001b[0m\u001b[37m\u001b[0m \u001b[1m0s\u001b[0m 9ms/step\n"
     ]
    },
    {
     "data": {
      "image/png": "[encoded data removed]",
      "text/plain": [
       "<Figure size 640x480 with 1 Axes>"
      ]
     },
     "metadata": {},
     "output_type": "display_data"
    }
   ],
   "source": [
    "# Load the image you want to predict\n",
    "img_path = '/Users/Marika/Data Sets/imgonline-com-ua-Negative-gucE6AGphBPJwCtO.jpg'\n",
    "img = Image.open(img_path).convert('L')  # Convert to grayscale\n",
    "\n",
    "# Resize the image to 28x28 pixels (MNIST size)\n",
    "img = img.resize((28, 28))\n",
    "\n",
    "# Convert the image to a NumPy array\n",
    "img_array = np.array(img)\n",
    "\n",
    "# Normalize the image data to match the training set\n",
    "img_array = img_array.astype('float32') / 255.0\n",
    "\n",
    "# Reshape the image to match the model's expected input shape\n",
    "img_array = img_array.reshape(1, 28, 28)  # Model expects (None, 28, 28)\n",
    "\n",
    "# Predict the digit\n",
    "predict_value = model.predict(img_array)\n",
    "predicted_digit = np.argmax(predict_value)\n",
    "\n",
    "# Display the image and prediction\n",
    "plt.imshow(img_array.reshape(28, 28), cmap='gray')\n",
    "plt.title(f\"Predicted digit: {predicted_digit}\")\n",
    "plt.axis('off')  # Hide axes\n",
    "plt.show()"
   ]
  },
  {
   "cell_type": "code",
   "execution_count": 21,
   "id": "451ab7ab",
   "metadata": {},
   "outputs": [
    {
     "name": "stdout",
     "output_type": "stream",
     "text": [
      "\u001b[1m1/1\u001b[0m \u001b[32m━━━━━━━━━━━━━━━━━━━━\u001b[0m\u001b[37m\u001b[0m \u001b[1m0s\u001b[0m 10ms/step\n"
     ]
    },
    {
     "data": {
      "image/png": "[encoded data removed]",
      "text/plain": [
       "<Figure size 640x480 with 1 Axes>"
      ]
     },
     "metadata": {},
     "output_type": "display_data"
    }
   ],
   "source": [
    "# Load the image you want to predict\n",
    "img_path = '/Users/Marika/Data Sets/imgonline-com-ua-Negative-OW7WjbwUIPTqpk.jpg'\n",
    "img = Image.open(img_path).convert('L')  # Convert to grayscale\n",
    "\n",
    "# Resize the image to 28x28 pixels (MNIST size)\n",
    "img = img.resize((28, 28))\n",
    "\n",
    "# Convert the image to a NumPy array\n",
    "img_array = np.array(img)\n",
    "\n",
    "# Normalize the image data to match the training set\n",
    "img_array = img_array.astype('float32') / 255.0\n",
    "\n",
    "# Reshape the image to match the model's expected input shape\n",
    "img_array = img_array.reshape(1, 28, 28)  # Model expects (None, 28, 28)\n",
    "\n",
    "# Predict the digit\n",
    "predict_value = model.predict(img_array)\n",
    "predicted_digit = np.argmax(predict_value)\n",
    "\n",
    "# Display the image and prediction\n",
    "plt.imshow(img_array.reshape(28, 28), cmap='gray')\n",
    "plt.title(f\"Predicted digit: {predicted_digit}\")\n",
    "plt.axis('off')  # Hide axes\n",
    "plt.show()"
   ]
  },
  {
   "cell_type": "code",
   "execution_count": 22,
   "id": "3b48ea0b",
   "metadata": {},
   "outputs": [
    {
     "name": "stdout",
     "output_type": "stream",
     "text": [
      "\u001b[1m1/1\u001b[0m \u001b[32m━━━━━━━━━━━━━━━━━━━━\u001b[0m\u001b[37m\u001b[0m \u001b[1m0s\u001b[0m 10ms/step\n"
     ]
    },
    {
     "data": {
      "image/png": "[encoded data removed]",
      "text/plain": [
       "<Figure size 640x480 with 1 Axes>"
      ]
     },
     "metadata": {},
     "output_type": "display_data"
    }
   ],
   "source": [
    "# Load the image you want to predict\n",
    "img_path = '/Users/Marika/Data Sets/imgonline-com-ua-Negative-pypgZp6XU6FFh0i.jpg'\n",
    "img = Image.open(img_path).convert('L')  # Convert to grayscale\n",
    "\n",
    "# Resize the image to 28x28 pixels (MNIST size)\n",
    "img = img.resize((28, 28))\n",
    "\n",
    "# Convert the image to a NumPy array\n",
    "img_array = np.array(img)\n",
    "\n",
    "# Normalize the image data to match the training set\n",
    "img_array = img_array.astype('float32') / 255.0\n",
    "\n",
    "# Reshape the image to match the model's expected input shape\n",
    "img_array = img_array.reshape(1, 28, 28)  # Model expects (None, 28, 28)\n",
    "\n",
    "# Predict the digit\n",
    "predict_value = model.predict(img_array)\n",
    "predicted_digit = np.argmax(predict_value)\n",
    "\n",
    "# Display the image and prediction\n",
    "plt.imshow(img_array.reshape(28, 28), cmap='gray')\n",
    "plt.title(f\"Predicted digit: {predicted_digit}\")\n",
    "plt.axis('off')  # Hide axes\n",
    "plt.show()"
   ]
  },
  {
   "cell_type": "code",
   "execution_count": 23,
   "id": "ecaeee61",
   "metadata": {},
   "outputs": [
    {
     "name": "stdout",
     "output_type": "stream",
     "text": [
      "\u001b[1m1/1\u001b[0m \u001b[32m━━━━━━━━━━━━━━━━━━━━\u001b[0m\u001b[37m\u001b[0m \u001b[1m0s\u001b[0m 9ms/step\n"
     ]
    },
    {
     "data": {
      "image/png": "[encoded data removed]",
      "text/plain": [
       "<Figure size 640x480 with 1 Axes>"
      ]
     },
     "metadata": {},
     "output_type": "display_data"
    }
   ],
   "source": [
    "# Load the image you want to predict\n",
    "img_path = '/Users/Marika/Data Sets/imgonline-com-ua-Negative-SckttkDvFXWsdJ.jpg'\n",
    "img = Image.open(img_path).convert('L')  # Convert to grayscale\n",
    "\n",
    "# Resize the image to 28x28 pixels (MNIST size)\n",
    "img = img.resize((28, 28))\n",
    "\n",
    "# Convert the image to a NumPy array\n",
    "img_array = np.array(img)\n",
    "\n",
    "# Normalize the image data to match the training set\n",
    "img_array = img_array.astype('float32') / 255.0\n",
    "\n",
    "# Reshape the image to match the model's expected input shape\n",
    "img_array = img_array.reshape(1, 28, 28)  # Model expects (None, 28, 28)\n",
    "\n",
    "# Predict the digit\n",
    "predict_value = model.predict(img_array)\n",
    "predicted_digit = np.argmax(predict_value)\n",
    "\n",
    "# Display the image and prediction\n",
    "plt.imshow(img_array.reshape(28, 28), cmap='gray')\n",
    "plt.title(f\"Predicted digit: {predicted_digit}\")\n",
    "plt.axis('off')  # Hide axes\n",
    "plt.show()"
   ]
  },
  {
   "cell_type": "code",
   "execution_count": 24,
   "id": "1632d7b2",
   "metadata": {},
   "outputs": [
    {
     "name": "stdout",
     "output_type": "stream",
     "text": [
      "\u001b[1m1/1\u001b[0m \u001b[32m━━━━━━━━━━━━━━━━━━━━\u001b[0m\u001b[37m\u001b[0m \u001b[1m0s\u001b[0m 9ms/step\n"
     ]
    },
    {
     "data": {
      "image/png": "[encoded data removed]",
      "text/plain": [
       "<Figure size 640x480 with 1 Axes>"
      ]
     },
     "metadata": {},
     "output_type": "display_data"
    }
   ],
   "source": [
    "# Load the image you want to predict\n",
    "img_path = '/Users/Marika/Data Sets/imgonline-com-ua-Negative-VEOgqcHqc9JXmX7R.jpg'\n",
    "img = Image.open(img_path).convert('L')  # Convert to grayscale\n",
    "\n",
    "# Resize the image to 28x28 pixels (MNIST size)\n",
    "img = img.resize((28, 28))\n",
    "\n",
    "# Convert the image to a NumPy array\n",
    "img_array = np.array(img)\n",
    "\n",
    "# Normalize the image data to match the training set\n",
    "img_array = img_array.astype('float32') / 255.0\n",
    "\n",
    "# Reshape the image to match the model's expected input shape\n",
    "img_array = img_array.reshape(1, 28, 28)  # Model expects (None, 28, 28)\n",
    "\n",
    "# Predict the digit\n",
    "predict_value = model.predict(img_array)\n",
    "predicted_digit = np.argmax(predict_value)\n",
    "\n",
    "# Display the image and prediction\n",
    "plt.imshow(img_array.reshape(28, 28), cmap='gray')\n",
    "plt.title(f\"Predicted digit: {predicted_digit}\")\n",
    "plt.axis('off')  # Hide axes\n",
    "plt.show()"
   ]
  },
  {
   "cell_type": "code",
   "execution_count": 25,
   "id": "dcf847ae",
   "metadata": {},
   "outputs": [
    {
     "name": "stdout",
     "output_type": "stream",
     "text": [
      "\u001b[1m1/1\u001b[0m \u001b[32m━━━━━━━━━━━━━━━━━━━━\u001b[0m\u001b[37m\u001b[0m \u001b[1m0s\u001b[0m 11ms/step\n"
     ]
    },
    {
     "data": {
      "image/png": "[encoded data removed]",
      "text/plain": [
       "<Figure size 640x480 with 1 Axes>"
      ]
     },
     "metadata": {},
     "output_type": "display_data"
    }
   ],
   "source": [
    "# Load the image you want to predict\n",
    "img_path = '/Users/Marika/Data Sets/imgonline-com-ua-Negative-YOpRZvyshjM0OZQ.jpg'\n",
    "img = Image.open(img_path).convert('L')  # Convert to grayscale\n",
    "\n",
    "# Resize the image to 28x28 pixels (MNIST size)\n",
    "img = img.resize((28, 28))\n",
    "\n",
    "# Convert the image to a NumPy array\n",
    "img_array = np.array(img)\n",
    "\n",
    "# Normalize the image data to match the training set\n",
    "img_array = img_array.astype('float32') / 255.0\n",
    "\n",
    "# Reshape the image to match the model's expected input shape\n",
    "img_array = img_array.reshape(1, 28, 28)  # Model expects (None, 28, 28)\n",
    "\n",
    "# Predict the digit\n",
    "predict_value = model.predict(img_array)\n",
    "predicted_digit = np.argmax(predict_value)\n",
    "\n",
    "# Display the image and prediction\n",
    "plt.imshow(img_array.reshape(28, 28), cmap='gray')\n",
    "plt.title(f\"Predicted digit: {predicted_digit}\")\n",
    "plt.axis('off')  # Hide axes\n",
    "plt.show()"
   ]
  },
  {
   "cell_type": "code",
   "execution_count": null,
   "id": "6ab4eada",
   "metadata": {},
   "outputs": [],
   "source": []
  }
 ],
 "metadata": {
  "kernelspec": {
   "display_name": "Python 3 (ipykernel)",
   "language": "python",
   "name": "python3"
  },
  "language_info": {
   "codemirror_mode": {
    "name": "ipython",
    "version": 3
   },
   "file_extension": ".py",
   "mimetype": "text/x-python",
   "name": "python",
   "nbconvert_exporter": "python",
   "pygments_lexer": "ipython3",
   "version": "3.11.7"
  }
 },
 "nbformat": 4,
 "nbformat_minor": 5
}
